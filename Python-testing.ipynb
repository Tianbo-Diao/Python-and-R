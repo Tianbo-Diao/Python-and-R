{
 "cells": [
  {
   "cell_type": "markdown",
   "metadata": {},
   "source": [
    "### Python 代码运行并测试运行时间"
   ]
  },
  {
   "cell_type": "code",
   "execution_count": null,
   "metadata": {
    "jupyter": {
     "is_executing": true
    }
   },
   "outputs": [
    {
     "name": "stdout",
     "output_type": "stream",
     "text": [
      "随机数生成结果: (200, 2000)\n",
      "随机数生成时间: 0.08186912536621094 seconds\n",
      "矩阵乘法结果: (2000, 2000)\n",
      "矩阵乘法时间: 0.07513713836669922 seconds\n",
      "分布式随机数生成时间: 3.210928201675415 seconds\n"
     ]
    }
   ],
   "source": [
    "import numpy as np\n",
    "from time import time\n",
    "\n",
    "rng = np.random.default_rng()\n",
    "\n",
    "\n",
    "def measure_runtime(func, *args, **kwargs):\n",
    "    start_time = time()\n",
    "    result = func(*args, **kwargs)\n",
    "    runtime = time() - start_time  \n",
    "    return {'result': result, 'runtime': runtime}\n",
    "\n",
    "\n",
    "def RandomData(n, p):\n",
    "    mean_vec = np.zeros(p)\n",
    "    cov_mat = 0.5 ** np.abs(np.arange(1, p + 1).reshape(-1, 1) - np.arange(1, p + 1))\n",
    "    X = rng.multivariate_normal(mean_vec, cov_mat, n, method=\"cholesky\")\n",
    "    return X\n",
    "\n",
    "\n",
    "def MatrixMultiplication(p):\n",
    "    a = rng.normal(size=(p, p))\n",
    "    b = a.T @ a\n",
    "    return b\n",
    "\n",
    "\n",
    "def DistributedRandom(n, p, m):\n",
    "    mean_vec = np.zeros(p)\n",
    "    cov_mat = 0.5 ** np.abs(np.arange(1, p + 1).reshape(-1, 1) - np.arange(1, p + 1))\n",
    "    x = [0] * m\n",
    "    for i in range(m):\n",
    "        x[i] = rng.multivariate_normal(mean_vec, cov_mat, n, method=\"cholesky\")\n",
    "    return x\n",
    "\n",
    "\n",
    "# Example usage:\n",
    "Time_data = measure_runtime(RandomData, n=200, p=2000)\n",
    "print(f\"随机数生成时间: {Time_data['runtime']} seconds\")\n",
    "\n",
    "Time_matrix = measure_runtime(MatrixMultiplication, p=2000)\n",
    "print(f\"矩阵乘法时间: {Time_matrix['runtime']} seconds\")\n",
    "\n",
    "\n",
    "Distributed_time = measure_runtime(DistributedRandom, n=6000, p=600, m=60)\n",
    "print(f\"分布式随机数生成时间: {Distributed_time['runtime']} seconds\")\n"
   ]
  },
  {
   "cell_type": "code",
   "execution_count": null,
   "metadata": {},
   "outputs": [],
   "source": [
    "# Metrics for method results\n",
    "def method_metrics(method_beta, beta_true):\n",
    "    beta_index1 = np.where(beta_true != 0)[0]\n",
    "    beta_index2 = np.where(method_beta != 0)[0]\n",
    "    SC = int(np.all(np.isin(beta_index1, beta_index2)))  # Set intersection check for SC\n",
    "    CF = int( np.array_equal(beta_index1, beta_index2) )    # Check if both sets are equal for CF\n",
    "    AMS = len(beta_index2)   # Active Model Size (number of non-zero coefficients in method_beta)\n",
    "    PSR = len(np.intersect1d(beta_index2, beta_index1)) / len(beta_index1)  # Precision\n",
    "    FDR = len(np.setdiff1d(beta_index2, beta_index1)) / len(beta_index2)  # False Discovery Rate\n",
    "    ME = np.linalg.norm(method_beta - beta_true)  # Mean error (Euclidean distance)\n",
    "    \n",
    "    return np.array([SC, CF, AMS, PSR, FDR, ME])"
   ]
  }
 ],
 "metadata": {
  "kernelspec": {
   "display_name": "Python 3",
   "language": "python",
   "name": "python3"
  },
  "language_info": {
   "codemirror_mode": {
    "name": "ipython",
    "version": 3
   },
   "file_extension": ".py",
   "mimetype": "text/x-python",
   "name": "python",
   "nbconvert_exporter": "python",
   "pygments_lexer": "ipython3",
   "version": "3.12.10"
  }
 },
 "nbformat": 4,
 "nbformat_minor": 2
}
