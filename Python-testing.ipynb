{
 "cells": [
  {
   "cell_type": "markdown",
   "metadata": {},
   "source": [
    "### Python 代码运行并测试运行时间"
   ]
  },
  {
   "cell_type": "code",
   "execution_count": 1,
   "metadata": {},
   "outputs": [
    {
     "name": "stdout",
     "output_type": "stream",
     "text": [
      "随机数生成结果: (200, 2000)\n",
      "随机数生成时间: 0.8154013156890869 seconds\n",
      "矩阵乘法结果: (6000, 6000)\n",
      "矩阵乘法时间: 4.21352481842041 seconds\n"
     ]
    }
   ],
   "source": [
    "import numpy as np\n",
    "from time import time\n",
    "\n",
    "rng = np.random.default_rng()\n",
    "\n",
    "\n",
    "def measure_runtime(func, *args, **kwargs):\n",
    "    start_time = time()\n",
    "    result = func(*args, **kwargs)\n",
    "    runtime = time() - start_time\n",
    "    return result, runtime\n",
    "\n",
    "\n",
    "def RandomData(n, p):\n",
    "    mean_vec = np.zeros(p)\n",
    "    cov_mat = 0.5 ** np.abs(np.arange(1, p + 1).reshape(-1, 1) - np.arange(1, p + 1))\n",
    "    X = rng.multivariate_normal(mean_vec, cov_mat, n, method=\"cholesky\")\n",
    "    return X\n",
    "\n",
    "\n",
    "def MatrixMultiplication(p):\n",
    "    a = rng.normal(size=(p, p))\n",
    "    b = a.T @ a\n",
    "    return b\n",
    "\n",
    "\n",
    "# Example usage:\n",
    "Data_result, Time_data = measure_runtime(RandomData, n=200, p=2000)\n",
    "print(f\"随机数生成结果: {Data_result.shape}\")\n",
    "print(f\"随机数生成时间: {Time_data} seconds\")\n",
    "\n",
    "Matrix_result, Time_matrix = measure_runtime(MatrixMultiplication, p=6000)\n",
    "print(f\"矩阵乘法结果: {Matrix_result.shape}\")\n",
    "print(f\"矩阵乘法时间: {Time_matrix} seconds\")"
   ]
  },
  {
   "cell_type": "code",
   "execution_count": null,
   "metadata": {},
   "outputs": [],
   "source": [
    "import numpy as np\n",
    "\n",
    "rng = np.random.default_rng(42)\n",
    "print(rng.normal(size=1))\n",
    "# for i in range(2):\n",
    "#     print(rng.normal(size=1))\n",
    "\n",
    "a = np.zeros((3, 2))\n",
    "a[:,0]=np.array([1,2,3])\n",
    "a"
   ]
  }
 ],
 "metadata": {
  "kernelspec": {
   "display_name": "Python 3",
   "language": "python",
   "name": "python3"
  },
  "language_info": {
   "codemirror_mode": {
    "name": "ipython",
    "version": 3
   },
   "file_extension": ".py",
   "mimetype": "text/x-python",
   "name": "python",
   "nbconvert_exporter": "python",
   "pygments_lexer": "ipython3",
   "version": "3.11.8"
  }
 },
 "nbformat": 4,
 "nbformat_minor": 2
}
